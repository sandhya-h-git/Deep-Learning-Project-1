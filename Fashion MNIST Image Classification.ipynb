{
 "cells": [
  {
   "cell_type": "markdown",
   "id": "e5946266",
   "metadata": {},
   "source": [
    "#### Importing libraries"
   ]
  },
  {
   "cell_type": "code",
   "execution_count": 1,
   "id": "72829590",
   "metadata": {},
   "outputs": [],
   "source": [
    "import pandas as pd\n",
    "import numpy as np\n",
    "import matplotlib.pyplot as plt  \n",
    "%matplotlib inline\n",
    "import matplotlib as mpl"
   ]
  },
  {
   "cell_type": "code",
   "execution_count": 2,
   "id": "eda85433",
   "metadata": {},
   "outputs": [],
   "source": [
    "import tensorflow as tf\n",
    "from tensorflow import keras"
   ]
  },
  {
   "cell_type": "markdown",
   "id": "3e5b440b",
   "metadata": {},
   "source": [
    "#### Importing Dataset"
   ]
  },
  {
   "cell_type": "code",
   "execution_count": 3,
   "id": "0aed1f7c",
   "metadata": {},
   "outputs": [],
   "source": [
    "fashion_mnist = keras.datasets.fashion_mnist\n",
    "(X_train_full,y_train_full),(X_test,y_test) = fashion_mnist.load_data()"
   ]
  },
  {
   "cell_type": "code",
   "execution_count": 4,
   "id": "3ec1dd85",
   "metadata": {},
   "outputs": [],
   "source": [
    "class_names = [\"T-shirt/Top\",\"Trouser\",\"Pullover\",\"Dress\",\"Coat\",\"Sandal\",\"Shirt\",\"Sneaker\",\"Bag\",\"Ankle Boot\"]"
   ]
  },
  {
   "cell_type": "markdown",
   "id": "2e385294",
   "metadata": {},
   "source": [
    "#### Normalising and Splitting data into train/validation/test"
   ]
  },
  {
   "cell_type": "code",
   "execution_count": 5,
   "id": "16578a1a",
   "metadata": {},
   "outputs": [],
   "source": [
    "X_train_n = X_train_full/255.\n",
    "X_test_n = X_test/255."
   ]
  },
  {
   "cell_type": "code",
   "execution_count": 6,
   "id": "852a4fde",
   "metadata": {},
   "outputs": [],
   "source": [
    "X_valid, X_train = X_train_n[:6000], X_train_n[6000:]\n",
    "y_valid, y_train = y_train_full[:6000], y_train_full[6000:]\n",
    "X_test = X_test_n"
   ]
  },
  {
   "cell_type": "markdown",
   "id": "df727ea7",
   "metadata": {},
   "source": [
    "#### Creating Model Architecture"
   ]
  },
  {
   "cell_type": "code",
   "execution_count": 7,
   "id": "11c873cc",
   "metadata": {},
   "outputs": [],
   "source": [
    "np.random.seed(42)\n",
    "tf.random.set_seed(42)"
   ]
  },
  {
   "cell_type": "code",
   "execution_count": 8,
   "id": "1a870d20",
   "metadata": {},
   "outputs": [],
   "source": [
    "model = keras.models.Sequential()"
   ]
  },
  {
   "cell_type": "code",
   "execution_count": 9,
   "id": "c53d3685",
   "metadata": {},
   "outputs": [],
   "source": [
    "model.add(keras.layers.Flatten(input_shape = [28,28]))\n",
    "model.add(keras.layers.Dense(200, activation = \"relu\"))\n",
    "model.add(keras.layers.Dense(100, activation = \"relu\"))\n",
    "model.add(keras.layers.Dense(10, activation = \"softmax\"))"
   ]
  },
  {
   "cell_type": "code",
   "execution_count": 10,
   "id": "48ae463d",
   "metadata": {},
   "outputs": [
    {
     "name": "stdout",
     "output_type": "stream",
     "text": [
      "Model: \"sequential\"\n",
      "_________________________________________________________________\n",
      "Layer (type)                 Output Shape              Param #   \n",
      "=================================================================\n",
      "flatten (Flatten)            (None, 784)               0         \n",
      "_________________________________________________________________\n",
      "dense (Dense)                (None, 200)               157000    \n",
      "_________________________________________________________________\n",
      "dense_1 (Dense)              (None, 100)               20100     \n",
      "_________________________________________________________________\n",
      "dense_2 (Dense)              (None, 10)                1010      \n",
      "=================================================================\n",
      "Total params: 178,110\n",
      "Trainable params: 178,110\n",
      "Non-trainable params: 0\n",
      "_________________________________________________________________\n"
     ]
    }
   ],
   "source": [
    "model.summary()"
   ]
  },
  {
   "cell_type": "code",
   "execution_count": 11,
   "id": "65c76ba5",
   "metadata": {},
   "outputs": [
    {
     "data": {
      "image/png": "[encoded data removed]",
      "text/plain": [
       "<IPython.core.display.Image object>"
      ]
     },
     "execution_count": 11,
     "metadata": {},
     "output_type": "execute_result"
    }
   ],
   "source": [
    "import pydotplus\n",
    "keras.utils.plot_model(model)"
   ]
  },
  {
   "cell_type": "markdown",
   "id": "b48f4152",
   "metadata": {},
   "source": [
    "#### Compiling the Model"
   ]
  },
  {
   "cell_type": "code",
   "execution_count": 12,
   "id": "c4424bd0",
   "metadata": {},
   "outputs": [],
   "source": [
    "model.compile(loss = \"sparse_categorical_crossentropy\", optimizer = \"sgd\", metrics = [\"accuracy\"])"
   ]
  },
  {
   "cell_type": "code",
   "execution_count": 13,
   "id": "9ea9eb01",
   "metadata": {},
   "outputs": [
    {
     "name": "stdout",
     "output_type": "stream",
     "text": [
      "Epoch 1/60\n",
      "1688/1688 [==============================] - 4s 2ms/step - loss: 0.7493 - accuracy: 0.7592 - val_loss: 0.5431 - val_accuracy: 0.8112\n",
      "Epoch 2/60\n",
      "1688/1688 [==============================] - 3s 2ms/step - loss: 0.4965 - accuracy: 0.8265 - val_loss: 0.4565 - val_accuracy: 0.8467\n",
      "Epoch 3/60\n",
      "1688/1688 [==============================] - 3s 2ms/step - loss: 0.4493 - accuracy: 0.8434 - val_loss: 0.4780 - val_accuracy: 0.8295\n",
      "Epoch 4/60\n",
      "1688/1688 [==============================] - 3s 2ms/step - loss: 0.4233 - accuracy: 0.8517 - val_loss: 0.4047 - val_accuracy: 0.8627\n",
      "Epoch 5/60\n",
      "1688/1688 [==============================] - 3s 2ms/step - loss: 0.4045 - accuracy: 0.8573 - val_loss: 0.4018 - val_accuracy: 0.8575\n",
      "Epoch 6/60\n",
      "1688/1688 [==============================] - 3s 2ms/step - loss: 0.3870 - accuracy: 0.8647 - val_loss: 0.3911 - val_accuracy: 0.8657\n",
      "Epoch 7/60\n",
      "1688/1688 [==============================] - 3s 2ms/step - loss: 0.3743 - accuracy: 0.8673 - val_loss: 0.3919 - val_accuracy: 0.8645\n",
      "Epoch 8/60\n",
      "1688/1688 [==============================] - 3s 2ms/step - loss: 0.3624 - accuracy: 0.8731 - val_loss: 0.3721 - val_accuracy: 0.8697\n",
      "Epoch 9/60\n",
      "1688/1688 [==============================] - 3s 2ms/step - loss: 0.3524 - accuracy: 0.8750 - val_loss: 0.3756 - val_accuracy: 0.8663\n",
      "Epoch 10/60\n",
      "1688/1688 [==============================] - 3s 2ms/step - loss: 0.3414 - accuracy: 0.8798 - val_loss: 0.3566 - val_accuracy: 0.8757\n",
      "Epoch 11/60\n",
      "1688/1688 [==============================] - 3s 2ms/step - loss: 0.3336 - accuracy: 0.8822 - val_loss: 0.3490 - val_accuracy: 0.8775\n",
      "Epoch 12/60\n",
      "1688/1688 [==============================] - 3s 2ms/step - loss: 0.3260 - accuracy: 0.8830 - val_loss: 0.3470 - val_accuracy: 0.8790\n",
      "Epoch 13/60\n",
      "1688/1688 [==============================] - 3s 2ms/step - loss: 0.3182 - accuracy: 0.8866 - val_loss: 0.3648 - val_accuracy: 0.8682\n",
      "Epoch 14/60\n",
      "1688/1688 [==============================] - 3s 2ms/step - loss: 0.3112 - accuracy: 0.8892 - val_loss: 0.3352 - val_accuracy: 0.8782\n",
      "Epoch 15/60\n",
      "1688/1688 [==============================] - 3s 2ms/step - loss: 0.3048 - accuracy: 0.8909 - val_loss: 0.3604 - val_accuracy: 0.8690\n",
      "Epoch 16/60\n",
      "1688/1688 [==============================] - 3s 2ms/step - loss: 0.2987 - accuracy: 0.8935 - val_loss: 0.3548 - val_accuracy: 0.8718\n",
      "Epoch 17/60\n",
      "1688/1688 [==============================] - 3s 2ms/step - loss: 0.2933 - accuracy: 0.8944 - val_loss: 0.3297 - val_accuracy: 0.8822\n",
      "Epoch 18/60\n",
      "1688/1688 [==============================] - 3s 2ms/step - loss: 0.2872 - accuracy: 0.8971 - val_loss: 0.3228 - val_accuracy: 0.8817\n",
      "Epoch 19/60\n",
      "1688/1688 [==============================] - 3s 2ms/step - loss: 0.2818 - accuracy: 0.8989 - val_loss: 0.3308 - val_accuracy: 0.8808\n",
      "Epoch 20/60\n",
      "1688/1688 [==============================] - 3s 2ms/step - loss: 0.2768 - accuracy: 0.9017 - val_loss: 0.3376 - val_accuracy: 0.8802\n",
      "Epoch 21/60\n",
      "1688/1688 [==============================] - 3s 2ms/step - loss: 0.2725 - accuracy: 0.9026 - val_loss: 0.3303 - val_accuracy: 0.8783\n",
      "Epoch 22/60\n",
      "1688/1688 [==============================] - 3s 2ms/step - loss: 0.2680 - accuracy: 0.9034 - val_loss: 0.3138 - val_accuracy: 0.8855\n",
      "Epoch 23/60\n",
      "1688/1688 [==============================] - 3s 2ms/step - loss: 0.2626 - accuracy: 0.9055 - val_loss: 0.3450 - val_accuracy: 0.8690\n",
      "Epoch 24/60\n",
      "1688/1688 [==============================] - 3s 2ms/step - loss: 0.2589 - accuracy: 0.9072 - val_loss: 0.3102 - val_accuracy: 0.8897\n",
      "Epoch 25/60\n",
      "1688/1688 [==============================] - 3s 2ms/step - loss: 0.2528 - accuracy: 0.9089 - val_loss: 0.3337 - val_accuracy: 0.8772\n",
      "Epoch 26/60\n",
      "1688/1688 [==============================] - 3s 2ms/step - loss: 0.2500 - accuracy: 0.9105 - val_loss: 0.3211 - val_accuracy: 0.8838\n",
      "Epoch 27/60\n",
      "1688/1688 [==============================] - 3s 2ms/step - loss: 0.2459 - accuracy: 0.9108 - val_loss: 0.3076 - val_accuracy: 0.8897\n",
      "Epoch 28/60\n",
      "1688/1688 [==============================] - 3s 2ms/step - loss: 0.2413 - accuracy: 0.9136 - val_loss: 0.3589 - val_accuracy: 0.8675\n",
      "Epoch 29/60\n",
      "1688/1688 [==============================] - 3s 2ms/step - loss: 0.2379 - accuracy: 0.9148 - val_loss: 0.3196 - val_accuracy: 0.8842\n",
      "Epoch 30/60\n",
      "1688/1688 [==============================] - 3s 2ms/step - loss: 0.2343 - accuracy: 0.9156 - val_loss: 0.3288 - val_accuracy: 0.8792\n",
      "Epoch 31/60\n",
      "1688/1688 [==============================] - 2s 1ms/step - loss: 0.2297 - accuracy: 0.9180 - val_loss: 0.3021 - val_accuracy: 0.8927\n",
      "Epoch 32/60\n",
      "1688/1688 [==============================] - 3s 1ms/step - loss: 0.2266 - accuracy: 0.9187 - val_loss: 0.3061 - val_accuracy: 0.8888\n",
      "Epoch 33/60\n",
      "1688/1688 [==============================] - 2s 1ms/step - loss: 0.2242 - accuracy: 0.9191 - val_loss: 0.3099 - val_accuracy: 0.8888\n",
      "Epoch 34/60\n",
      "1688/1688 [==============================] - 3s 1ms/step - loss: 0.2215 - accuracy: 0.9209 - val_loss: 0.3084 - val_accuracy: 0.8895\n",
      "Epoch 35/60\n",
      "1688/1688 [==============================] - 2s 1ms/step - loss: 0.2173 - accuracy: 0.9223 - val_loss: 0.3031 - val_accuracy: 0.8898\n",
      "Epoch 36/60\n",
      "1688/1688 [==============================] - 3s 2ms/step - loss: 0.2144 - accuracy: 0.9227 - val_loss: 0.3236 - val_accuracy: 0.8865\n",
      "Epoch 37/60\n",
      "1688/1688 [==============================] - 2s 1ms/step - loss: 0.2110 - accuracy: 0.9247 - val_loss: 0.2993 - val_accuracy: 0.8962\n",
      "Epoch 38/60\n",
      "1688/1688 [==============================] - 3s 2ms/step - loss: 0.2077 - accuracy: 0.9250 - val_loss: 0.3404 - val_accuracy: 0.8773\n",
      "Epoch 39/60\n",
      "1688/1688 [==============================] - 3s 2ms/step - loss: 0.2048 - accuracy: 0.9276 - val_loss: 0.2914 - val_accuracy: 0.8967\n",
      "Epoch 40/60\n",
      "1688/1688 [==============================] - 3s 2ms/step - loss: 0.2011 - accuracy: 0.9277 - val_loss: 0.3095 - val_accuracy: 0.8898\n",
      "Epoch 41/60\n",
      "1688/1688 [==============================] - 3s 2ms/step - loss: 0.1991 - accuracy: 0.9284 - val_loss: 0.3153 - val_accuracy: 0.8853\n",
      "Epoch 42/60\n",
      "1688/1688 [==============================] - 3s 2ms/step - loss: 0.1971 - accuracy: 0.9283 - val_loss: 0.2906 - val_accuracy: 0.8960\n",
      "Epoch 43/60\n",
      "1688/1688 [==============================] - 3s 2ms/step - loss: 0.1935 - accuracy: 0.9311 - val_loss: 0.2998 - val_accuracy: 0.8920\n",
      "Epoch 44/60\n",
      "1688/1688 [==============================] - 3s 2ms/step - loss: 0.1915 - accuracy: 0.9316 - val_loss: 0.3054 - val_accuracy: 0.8892\n",
      "Epoch 45/60\n",
      "1688/1688 [==============================] - 3s 2ms/step - loss: 0.1875 - accuracy: 0.9337 - val_loss: 0.3252 - val_accuracy: 0.8902\n",
      "Epoch 46/60\n",
      "1688/1688 [==============================] - 3s 2ms/step - loss: 0.1849 - accuracy: 0.9335 - val_loss: 0.3091 - val_accuracy: 0.8895\n",
      "Epoch 47/60\n",
      "1688/1688 [==============================] - 3s 2ms/step - loss: 0.1821 - accuracy: 0.9344 - val_loss: 0.3247 - val_accuracy: 0.8818\n",
      "Epoch 48/60\n",
      "1688/1688 [==============================] - 3s 2ms/step - loss: 0.1791 - accuracy: 0.9360 - val_loss: 0.2998 - val_accuracy: 0.8935\n",
      "Epoch 49/60\n",
      "1688/1688 [==============================] - 3s 2ms/step - loss: 0.1768 - accuracy: 0.9374 - val_loss: 0.3311 - val_accuracy: 0.8845\n",
      "Epoch 50/60\n",
      "1688/1688 [==============================] - 3s 2ms/step - loss: 0.1747 - accuracy: 0.9370 - val_loss: 0.3058 - val_accuracy: 0.8905\n",
      "Epoch 51/60\n",
      "1688/1688 [==============================] - 3s 2ms/step - loss: 0.1720 - accuracy: 0.9384 - val_loss: 0.3129 - val_accuracy: 0.8955\n",
      "Epoch 52/60\n",
      "1688/1688 [==============================] - 3s 2ms/step - loss: 0.1703 - accuracy: 0.9389 - val_loss: 0.2990 - val_accuracy: 0.8947\n",
      "Epoch 53/60\n",
      "1688/1688 [==============================] - 3s 2ms/step - loss: 0.1673 - accuracy: 0.9403 - val_loss: 0.3010 - val_accuracy: 0.8958\n",
      "Epoch 54/60\n",
      "1688/1688 [==============================] - 3s 2ms/step - loss: 0.1648 - accuracy: 0.9416 - val_loss: 0.3070 - val_accuracy: 0.8952\n",
      "Epoch 55/60\n",
      "1688/1688 [==============================] - 3s 2ms/step - loss: 0.1620 - accuracy: 0.9432 - val_loss: 0.3129 - val_accuracy: 0.8907\n",
      "Epoch 56/60\n",
      "1688/1688 [==============================] - 3s 2ms/step - loss: 0.1600 - accuracy: 0.9421 - val_loss: 0.3181 - val_accuracy: 0.8907\n",
      "Epoch 57/60\n",
      "1688/1688 [==============================] - 2s 1ms/step - loss: 0.1571 - accuracy: 0.9437 - val_loss: 0.3447 - val_accuracy: 0.8833\n",
      "Epoch 58/60\n",
      "1688/1688 [==============================] - 2s 1ms/step - loss: 0.1544 - accuracy: 0.9456 - val_loss: 0.3017 - val_accuracy: 0.8932\n",
      "Epoch 59/60\n",
      "1688/1688 [==============================] - 2s 1ms/step - loss: 0.1534 - accuracy: 0.9452 - val_loss: 0.3362 - val_accuracy: 0.8902\n",
      "Epoch 60/60\n",
      "1688/1688 [==============================] - 2s 1ms/step - loss: 0.1501 - accuracy: 0.9464 - val_loss: 0.3091 - val_accuracy: 0.8925\n"
     ]
    }
   ],
   "source": [
    "model_history = model.fit(X_train, y_train, epochs = 60, validation_data = (X_valid, y_valid))"
   ]
  },
  {
   "cell_type": "code",
   "execution_count": 14,
   "id": "0b8a2d8b",
   "metadata": {},
   "outputs": [
    {
     "data": {
      "text/plain": [
       "{'verbose': 1, 'epochs': 60, 'steps': 1688}"
      ]
     },
     "execution_count": 14,
     "metadata": {},
     "output_type": "execute_result"
    }
   ],
   "source": [
    "model_history.params"
   ]
  },
  {
   "cell_type": "code",
   "execution_count": 15,
   "id": "0fd4ceb1",
   "metadata": {},
   "outputs": [
    {
     "data": {
      "text/plain": [
       "{'loss': [0.7493051290512085,\n",
       "  0.49647700786590576,\n",
       "  0.4493192732334137,\n",
       "  0.4233124554157257,\n",
       "  0.40450018644332886,\n",
       "  0.3869546353816986,\n",
       "  0.37429800629615784,\n",
       "  0.36240801215171814,\n",
       "  0.352384090423584,\n",
       "  0.3414357602596283,\n",
       "  0.33364877104759216,\n",
       "  0.3260120451450348,\n",
       "  0.31822293996810913,\n",
       "  0.31123408675193787,\n",
       "  0.30476030707359314,\n",
       "  0.2986615002155304,\n",
       "  0.2933214008808136,\n",
       "  0.2871818244457245,\n",
       "  0.2818330228328705,\n",
       "  0.27679187059402466,\n",
       "  0.27253228425979614,\n",
       "  0.26803573966026306,\n",
       "  0.2625524401664734,\n",
       "  0.2589191198348999,\n",
       "  0.2527727782726288,\n",
       "  0.2499658316373825,\n",
       "  0.2459379881620407,\n",
       "  0.24134190380573273,\n",
       "  0.23789054155349731,\n",
       "  0.2343086302280426,\n",
       "  0.22974413633346558,\n",
       "  0.22660821676254272,\n",
       "  0.2242152988910675,\n",
       "  0.22149191796779633,\n",
       "  0.21725958585739136,\n",
       "  0.21435749530792236,\n",
       "  0.21099723875522614,\n",
       "  0.20769102871418,\n",
       "  0.2047608643770218,\n",
       "  0.20113146305084229,\n",
       "  0.19911573827266693,\n",
       "  0.19709543883800507,\n",
       "  0.19351734220981598,\n",
       "  0.19150182604789734,\n",
       "  0.18754525482654572,\n",
       "  0.1848672777414322,\n",
       "  0.18208502233028412,\n",
       "  0.17909282445907593,\n",
       "  0.17677584290504456,\n",
       "  0.17466779053211212,\n",
       "  0.17195424437522888,\n",
       "  0.1702701896429062,\n",
       "  0.16730144619941711,\n",
       "  0.16482305526733398,\n",
       "  0.16197620332241058,\n",
       "  0.16002091765403748,\n",
       "  0.15707619488239288,\n",
       "  0.15438295900821686,\n",
       "  0.15344884991645813,\n",
       "  0.1501084864139557],\n",
       " 'accuracy': [0.7592037320137024,\n",
       "  0.826462984085083,\n",
       "  0.8433703780174255,\n",
       "  0.851722240447998,\n",
       "  0.8573333621025085,\n",
       "  0.8647222518920898,\n",
       "  0.8673333525657654,\n",
       "  0.8730925917625427,\n",
       "  0.8750185370445251,\n",
       "  0.8797592520713806,\n",
       "  0.8822036981582642,\n",
       "  0.8829814791679382,\n",
       "  0.8866481184959412,\n",
       "  0.8891851902008057,\n",
       "  0.8908888697624207,\n",
       "  0.8934629559516907,\n",
       "  0.8943518400192261,\n",
       "  0.8971481323242188,\n",
       "  0.8989444375038147,\n",
       "  0.9016851782798767,\n",
       "  0.9026481509208679,\n",
       "  0.903425931930542,\n",
       "  0.9054629802703857,\n",
       "  0.9071851968765259,\n",
       "  0.9088703989982605,\n",
       "  0.9104629755020142,\n",
       "  0.9107778072357178,\n",
       "  0.913611114025116,\n",
       "  0.9147962927818298,\n",
       "  0.9155555367469788,\n",
       "  0.9180370569229126,\n",
       "  0.9187407493591309,\n",
       "  0.9190555810928345,\n",
       "  0.9208889007568359,\n",
       "  0.9223333597183228,\n",
       "  0.9226852059364319,\n",
       "  0.9247037172317505,\n",
       "  0.925000011920929,\n",
       "  0.9275555610656738,\n",
       "  0.9276666641235352,\n",
       "  0.9283888936042786,\n",
       "  0.9282592535018921,\n",
       "  0.9311481714248657,\n",
       "  0.9316296577453613,\n",
       "  0.9337037205696106,\n",
       "  0.9335185289382935,\n",
       "  0.9344074130058289,\n",
       "  0.9359814524650574,\n",
       "  0.9373518228530884,\n",
       "  0.9370370507240295,\n",
       "  0.9383888840675354,\n",
       "  0.9389444589614868,\n",
       "  0.9402962923049927,\n",
       "  0.9415555596351624,\n",
       "  0.9432036876678467,\n",
       "  0.9420740604400635,\n",
       "  0.9437037110328674,\n",
       "  0.9456481337547302,\n",
       "  0.9452407360076904,\n",
       "  0.9463518261909485],\n",
       " 'val_loss': [0.5431496500968933,\n",
       "  0.45645731687545776,\n",
       "  0.47796833515167236,\n",
       "  0.40468379855155945,\n",
       "  0.40176767110824585,\n",
       "  0.39114856719970703,\n",
       "  0.3918762505054474,\n",
       "  0.37208545207977295,\n",
       "  0.37563449144363403,\n",
       "  0.3565959930419922,\n",
       "  0.3489624559879303,\n",
       "  0.34695255756378174,\n",
       "  0.3648217022418976,\n",
       "  0.33520784974098206,\n",
       "  0.3603992164134979,\n",
       "  0.35484570264816284,\n",
       "  0.32971835136413574,\n",
       "  0.32283124327659607,\n",
       "  0.3308008909225464,\n",
       "  0.33755847811698914,\n",
       "  0.330315500497818,\n",
       "  0.3137598931789398,\n",
       "  0.3450354337692261,\n",
       "  0.31022968888282776,\n",
       "  0.333713173866272,\n",
       "  0.321101576089859,\n",
       "  0.30762481689453125,\n",
       "  0.3589368760585785,\n",
       "  0.3196030259132385,\n",
       "  0.3288324177265167,\n",
       "  0.3021378219127655,\n",
       "  0.30611667037010193,\n",
       "  0.30987679958343506,\n",
       "  0.3084000051021576,\n",
       "  0.30305904150009155,\n",
       "  0.32364723086357117,\n",
       "  0.2993355989456177,\n",
       "  0.34039726853370667,\n",
       "  0.2914362847805023,\n",
       "  0.30950167775154114,\n",
       "  0.31529706716537476,\n",
       "  0.290558785200119,\n",
       "  0.2998242676258087,\n",
       "  0.3054147958755493,\n",
       "  0.32522183656692505,\n",
       "  0.309142142534256,\n",
       "  0.324663907289505,\n",
       "  0.2997613847255707,\n",
       "  0.3310515582561493,\n",
       "  0.3057675361633301,\n",
       "  0.31285762786865234,\n",
       "  0.29900556802749634,\n",
       "  0.30096590518951416,\n",
       "  0.3070347011089325,\n",
       "  0.3128696382045746,\n",
       "  0.3180762529373169,\n",
       "  0.34467974305152893,\n",
       "  0.30172091722488403,\n",
       "  0.33618494868278503,\n",
       "  0.3090673089027405],\n",
       " 'val_accuracy': [0.8111666440963745,\n",
       "  0.846666693687439,\n",
       "  0.8295000195503235,\n",
       "  0.862666666507721,\n",
       "  0.8575000166893005,\n",
       "  0.8656666874885559,\n",
       "  0.8644999861717224,\n",
       "  0.8696666955947876,\n",
       "  0.8663333058357239,\n",
       "  0.8756666779518127,\n",
       "  0.8774999976158142,\n",
       "  0.8790000081062317,\n",
       "  0.8681666851043701,\n",
       "  0.878166675567627,\n",
       "  0.8690000176429749,\n",
       "  0.871833324432373,\n",
       "  0.8821666836738586,\n",
       "  0.8816666603088379,\n",
       "  0.8808333277702332,\n",
       "  0.8801666498184204,\n",
       "  0.878333330154419,\n",
       "  0.8855000138282776,\n",
       "  0.8690000176429749,\n",
       "  0.8896666765213013,\n",
       "  0.8771666884422302,\n",
       "  0.8838333487510681,\n",
       "  0.8896666765213013,\n",
       "  0.8675000071525574,\n",
       "  0.8841666579246521,\n",
       "  0.8791666626930237,\n",
       "  0.8926666378974915,\n",
       "  0.8888333439826965,\n",
       "  0.8888333439826965,\n",
       "  0.8895000219345093,\n",
       "  0.8898333311080933,\n",
       "  0.8865000009536743,\n",
       "  0.8961666822433472,\n",
       "  0.8773333430290222,\n",
       "  0.8966666460037231,\n",
       "  0.8898333311080933,\n",
       "  0.8853333592414856,\n",
       "  0.8960000276565552,\n",
       "  0.8920000195503235,\n",
       "  0.8891666531562805,\n",
       "  0.8901666402816772,\n",
       "  0.8895000219345093,\n",
       "  0.8818333148956299,\n",
       "  0.8934999704360962,\n",
       "  0.8845000267028809,\n",
       "  0.890500009059906,\n",
       "  0.8955000042915344,\n",
       "  0.8946666717529297,\n",
       "  0.8958333134651184,\n",
       "  0.8951666951179504,\n",
       "  0.890666663646698,\n",
       "  0.890666663646698,\n",
       "  0.8833333253860474,\n",
       "  0.8931666612625122,\n",
       "  0.8901666402816772,\n",
       "  0.8924999833106995]}"
      ]
     },
     "execution_count": 15,
     "metadata": {},
     "output_type": "execute_result"
    }
   ],
   "source": [
    "model_history.history"
   ]
  },
  {
   "cell_type": "code",
   "execution_count": 16,
   "id": "ee72f921",
   "metadata": {},
   "outputs": [
    {
     "data": {
      "image/png": "[encoded data removed]",
      "text/plain": [
       "<Figure size 576x360 with 1 Axes>"
      ]
     },
     "metadata": {
      "needs_background": "light"
     },
     "output_type": "display_data"
    }
   ],
   "source": [
    "pd.DataFrame(model_history.history).plot(figsize = (8,5))\n",
    "plt.grid(True)\n",
    "plt.gca().set_ylim(0,1)\n",
    "plt.show()"
   ]
  },
  {
   "cell_type": "code",
   "execution_count": 17,
   "id": "27b4cb56",
   "metadata": {},
   "outputs": [
    {
     "name": "stdout",
     "output_type": "stream",
     "text": [
      "313/313 [==============================] - 0s 1ms/step - loss: 0.3441 - accuracy: 0.8864\n"
     ]
    },
    {
     "data": {
      "text/plain": [
       "[0.34405553340911865, 0.8863999843597412]"
      ]
     },
     "execution_count": 17,
     "metadata": {},
     "output_type": "execute_result"
    }
   ],
   "source": [
    "model.evaluate(X_test, y_test)"
   ]
  },
  {
   "cell_type": "markdown",
   "id": "0e12867c",
   "metadata": {},
   "source": [
    "#### Predicting"
   ]
  },
  {
   "cell_type": "code",
   "execution_count": 18,
   "id": "6584a0e1",
   "metadata": {},
   "outputs": [],
   "source": [
    "X_new = X_test[:5]"
   ]
  },
  {
   "cell_type": "code",
   "execution_count": 19,
   "id": "3f1b48cd",
   "metadata": {},
   "outputs": [
    {
     "data": {
      "text/plain": [
       "array([9, 2, 1, 1, 6], dtype=int64)"
      ]
     },
     "execution_count": 19,
     "metadata": {},
     "output_type": "execute_result"
    }
   ],
   "source": [
    "y_pred = np.argmax(model.predict(X_new), axis = -1)\n",
    "y_pred"
   ]
  },
  {
   "cell_type": "code",
   "execution_count": 20,
   "id": "4d9d367a",
   "metadata": {},
   "outputs": [
    {
     "data": {
      "text/plain": [
       "array(['Ankle Boot', 'Pullover', 'Trouser', 'Trouser', 'Shirt'],\n",
       "      dtype='<U11')"
      ]
     },
     "execution_count": 20,
     "metadata": {},
     "output_type": "execute_result"
    }
   ],
   "source": [
    "np.array(class_names)[y_pred]"
   ]
  },
  {
   "cell_type": "code",
   "execution_count": 21,
   "id": "1053d6dd",
   "metadata": {},
   "outputs": [
    {
     "name": "stdout",
     "output_type": "stream",
     "text": [
      "AxesImage(54,36;334.8x217.44)\n"
     ]
    },
    {
     "data": {
      "image/png": "[encoded data removed]",
      "text/plain": [
       "<Figure size 432x288 with 1 Axes>"
      ]
     },
     "metadata": {
      "needs_background": "light"
     },
     "output_type": "display_data"
    }
   ],
   "source": [
    "print(plt.imshow(X_test[0]))"
   ]
  },
  {
   "cell_type": "code",
   "execution_count": 22,
   "id": "d53104c4",
   "metadata": {},
   "outputs": [
    {
     "name": "stdout",
     "output_type": "stream",
     "text": [
      "AxesImage(54,36;334.8x217.44)\n"
     ]
    },
    {
     "data": {
      "image/png": "[encoded data removed]",
      "text/plain": [
       "<Figure size 432x288 with 1 Axes>"
      ]
     },
     "metadata": {
      "needs_background": "light"
     },
     "output_type": "display_data"
    }
   ],
   "source": [
    "print(plt.imshow(X_test[1]))"
   ]
  },
  {
   "cell_type": "code",
   "execution_count": 23,
   "id": "6240947a",
   "metadata": {},
   "outputs": [
    {
     "name": "stdout",
     "output_type": "stream",
     "text": [
      "AxesImage(54,36;334.8x217.44)\n"
     ]
    },
    {
     "data": {
      "image/png": "[encoded data removed]",
      "text/plain": [
       "<Figure size 432x288 with 1 Axes>"
      ]
     },
     "metadata": {
      "needs_background": "light"
     },
     "output_type": "display_data"
    }
   ],
   "source": [
    "print(plt.imshow(X_test[2]))"
   ]
  },
  {
   "cell_type": "code",
   "execution_count": 24,
   "id": "bc6cbdb6",
   "metadata": {},
   "outputs": [
    {
     "name": "stdout",
     "output_type": "stream",
     "text": [
      "AxesImage(54,36;334.8x217.44)\n"
     ]
    },
    {
     "data": {
      "image/png": "[encoded data removed]",
      "text/plain": [
       "<Figure size 432x288 with 1 Axes>"
      ]
     },
     "metadata": {
      "needs_background": "light"
     },
     "output_type": "display_data"
    }
   ],
   "source": [
    "print(plt.imshow(X_test[3]))"
   ]
  },
  {
   "cell_type": "code",
   "execution_count": 25,
   "id": "1b30f3b8",
   "metadata": {},
   "outputs": [
    {
     "name": "stdout",
     "output_type": "stream",
     "text": [
      "AxesImage(54,36;334.8x217.44)\n"
     ]
    },
    {
     "data": {
      "image/png": "[encoded data removed]",
      "text/plain": [
       "<Figure size 432x288 with 1 Axes>"
      ]
     },
     "metadata": {
      "needs_background": "light"
     },
     "output_type": "display_data"
    }
   ],
   "source": [
    "print(plt.imshow(X_test[4]))"
   ]
  }
 ],
 "metadata": {
  "kernelspec": {
   "display_name": "Python 3",
   "language": "python",
   "name": "python3"
  },
  "language_info": {
   "codemirror_mode": {
    "name": "ipython",
    "version": 3
   },
   "file_extension": ".py",
   "mimetype": "text/x-python",
   "name": "python",
   "nbconvert_exporter": "python",
   "pygments_lexer": "ipython3",
   "version": "3.8.8"
  }
 },
 "nbformat": 4,
 "nbformat_minor": 5
}
