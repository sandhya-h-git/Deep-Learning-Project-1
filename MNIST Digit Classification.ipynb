{
 "cells": [
  {
   "cell_type": "markdown",
   "id": "53dd14fc",
   "metadata": {},
   "source": [
    "#### Importing libraries"
   ]
  },
  {
   "cell_type": "code",
   "execution_count": 1,
   "id": "678b5ea7",
   "metadata": {},
   "outputs": [],
   "source": [
    "import pandas as pd\n",
    "import numpy as np\n",
    "import matplotlib.pyplot as plt  \n",
    "%matplotlib inline\n",
    "import matplotlib as mpl"
   ]
  },
  {
   "cell_type": "code",
   "execution_count": 2,
   "id": "701c1bf3",
   "metadata": {},
   "outputs": [],
   "source": [
    "import tensorflow as tf\n",
    "from tensorflow import keras"
   ]
  },
  {
   "cell_type": "markdown",
   "id": "c99fa0ef",
   "metadata": {},
   "source": [
    "#### Importing Dataset"
   ]
  },
  {
   "cell_type": "code",
   "execution_count": 3,
   "id": "19c8934b",
   "metadata": {},
   "outputs": [
    {
     "name": "stdout",
     "output_type": "stream",
     "text": [
      "Downloading data from https://storage.googleapis.com/tensorflow/tf-keras-datasets/mnist.npz\n",
      "11493376/11490434 [==============================] - 1s 0us/step\n",
      "11501568/11490434 [==============================] - 1s 0us/step\n"
     ]
    }
   ],
   "source": [
    "digit_mnist = keras.datasets.mnist\n",
    "(X_train_full,y_train_full),(X_test,y_test) = digit_mnist.load_data()"
   ]
  },
  {
   "cell_type": "markdown",
   "id": "d5f57fe4",
   "metadata": {},
   "source": [
    "#### Normalising data and Splitting into train/validation/test sets"
   ]
  },
  {
   "cell_type": "code",
   "execution_count": 4,
   "id": "393b04be",
   "metadata": {},
   "outputs": [],
   "source": [
    "X_train_n = X_train_full/255.\n",
    "X_test_n = X_test/255."
   ]
  },
  {
   "cell_type": "code",
   "execution_count": 5,
   "id": "9b0a02f0",
   "metadata": {},
   "outputs": [],
   "source": [
    "X_valid, X_train = X_train_n[:6000], X_train_n[6000:]\n",
    "y_valid, y_train = y_train_full[:6000], y_train_full[6000:]\n",
    "X_test = X_test_n"
   ]
  },
  {
   "cell_type": "markdown",
   "id": "657213ae",
   "metadata": {},
   "source": [
    "#### Creating Model Architecture"
   ]
  },
  {
   "cell_type": "code",
   "execution_count": 6,
   "id": "f8c678d9",
   "metadata": {},
   "outputs": [],
   "source": [
    "np.random.seed(1)\n",
    "tf.random.set_seed(1)"
   ]
  },
  {
   "cell_type": "code",
   "execution_count": 7,
   "id": "ea48edaf",
   "metadata": {},
   "outputs": [],
   "source": [
    "model = keras.models.Sequential()"
   ]
  },
  {
   "cell_type": "code",
   "execution_count": 8,
   "id": "07e779d8",
   "metadata": {},
   "outputs": [],
   "source": [
    "model.add(keras.layers.Flatten(input_shape = [28,28]))\n",
    "model.add(keras.layers.Dense(200, activation = \"relu\"))\n",
    "model.add(keras.layers.Dense(100, activation = \"relu\"))\n",
    "model.add(keras.layers.Dense(10, activation = \"softmax\"))"
   ]
  },
  {
   "cell_type": "code",
   "execution_count": 9,
   "id": "779906e6",
   "metadata": {},
   "outputs": [
    {
     "name": "stdout",
     "output_type": "stream",
     "text": [
      "Model: \"sequential\"\n",
      "_________________________________________________________________\n",
      "Layer (type)                 Output Shape              Param #   \n",
      "=================================================================\n",
      "flatten (Flatten)            (None, 784)               0         \n",
      "_________________________________________________________________\n",
      "dense (Dense)                (None, 200)               157000    \n",
      "_________________________________________________________________\n",
      "dense_1 (Dense)              (None, 100)               20100     \n",
      "_________________________________________________________________\n",
      "dense_2 (Dense)              (None, 10)                1010      \n",
      "=================================================================\n",
      "Total params: 178,110\n",
      "Trainable params: 178,110\n",
      "Non-trainable params: 0\n",
      "_________________________________________________________________\n"
     ]
    }
   ],
   "source": [
    "model.summary()"
   ]
  },
  {
   "cell_type": "code",
   "execution_count": 10,
   "id": "3211cbdd",
   "metadata": {},
   "outputs": [
    {
     "data": {
      "image/png": "[encoded data removed]",
      "text/plain": [
       "<IPython.core.display.Image object>"
      ]
     },
     "execution_count": 10,
     "metadata": {},
     "output_type": "execute_result"
    }
   ],
   "source": [
    "import pydotplus\n",
    "keras.utils.plot_model(model)"
   ]
  },
  {
   "cell_type": "markdown",
   "id": "10caef49",
   "metadata": {},
   "source": [
    "#### Compiling the Model"
   ]
  },
  {
   "cell_type": "code",
   "execution_count": 11,
   "id": "528022f7",
   "metadata": {},
   "outputs": [],
   "source": [
    "model.compile(loss = \"sparse_categorical_crossentropy\", optimizer = \"sgd\", metrics = [\"accuracy\"])"
   ]
  },
  {
   "cell_type": "code",
   "execution_count": 12,
   "id": "e7f00de9",
   "metadata": {},
   "outputs": [
    {
     "name": "stdout",
     "output_type": "stream",
     "text": [
      "Epoch 1/60\n",
      "1688/1688 [==============================] - 4s 2ms/step - loss: 0.6158 - accuracy: 0.8384 - val_loss: 0.3167 - val_accuracy: 0.9113\n",
      "Epoch 2/60\n",
      "1688/1688 [==============================] - 3s 2ms/step - loss: 0.2999 - accuracy: 0.9149 - val_loss: 0.2535 - val_accuracy: 0.9293\n",
      "Epoch 3/60\n",
      "1688/1688 [==============================] - 3s 2ms/step - loss: 0.2493 - accuracy: 0.9285 - val_loss: 0.2150 - val_accuracy: 0.9407\n",
      "Epoch 4/60\n",
      "1688/1688 [==============================] - 3s 2ms/step - loss: 0.2152 - accuracy: 0.9394 - val_loss: 0.1886 - val_accuracy: 0.9478\n",
      "Epoch 5/60\n",
      "1688/1688 [==============================] - 3s 2ms/step - loss: 0.1887 - accuracy: 0.9465 - val_loss: 0.1721 - val_accuracy: 0.9532\n",
      "Epoch 6/60\n",
      "1688/1688 [==============================] - 3s 2ms/step - loss: 0.1676 - accuracy: 0.9521 - val_loss: 0.1531 - val_accuracy: 0.9567\n",
      "Epoch 7/60\n",
      "1688/1688 [==============================] - 3s 2ms/step - loss: 0.1506 - accuracy: 0.9573 - val_loss: 0.1462 - val_accuracy: 0.9595\n",
      "Epoch 8/60\n",
      "1688/1688 [==============================] - 3s 2ms/step - loss: 0.1364 - accuracy: 0.9617 - val_loss: 0.1329 - val_accuracy: 0.9622\n",
      "Epoch 9/60\n",
      "1688/1688 [==============================] - 3s 2ms/step - loss: 0.1246 - accuracy: 0.9645 - val_loss: 0.1230 - val_accuracy: 0.9650\n",
      "Epoch 10/60\n",
      "1688/1688 [==============================] - 3s 2ms/step - loss: 0.1143 - accuracy: 0.9680 - val_loss: 0.1170 - val_accuracy: 0.9680\n",
      "Epoch 11/60\n",
      "1688/1688 [==============================] - 3s 2ms/step - loss: 0.1058 - accuracy: 0.9702 - val_loss: 0.1146 - val_accuracy: 0.9673\n",
      "Epoch 12/60\n",
      "1688/1688 [==============================] - 3s 2ms/step - loss: 0.0978 - accuracy: 0.9726 - val_loss: 0.1082 - val_accuracy: 0.9687\n",
      "Epoch 13/60\n",
      "1688/1688 [==============================] - 3s 2ms/step - loss: 0.0910 - accuracy: 0.9752 - val_loss: 0.1108 - val_accuracy: 0.9683\n",
      "Epoch 14/60\n",
      "1688/1688 [==============================] - 3s 2ms/step - loss: 0.0855 - accuracy: 0.9764 - val_loss: 0.0992 - val_accuracy: 0.9717\n",
      "Epoch 15/60\n",
      "1688/1688 [==============================] - 3s 2ms/step - loss: 0.0800 - accuracy: 0.9778 - val_loss: 0.0987 - val_accuracy: 0.9710\n",
      "Epoch 16/60\n",
      "1688/1688 [==============================] - 3s 2ms/step - loss: 0.0749 - accuracy: 0.9793 - val_loss: 0.0934 - val_accuracy: 0.9722\n",
      "Epoch 17/60\n",
      "1688/1688 [==============================] - 3s 2ms/step - loss: 0.0704 - accuracy: 0.9806 - val_loss: 0.0899 - val_accuracy: 0.9738\n",
      "Epoch 18/60\n",
      "1688/1688 [==============================] - 3s 2ms/step - loss: 0.0662 - accuracy: 0.9818 - val_loss: 0.0871 - val_accuracy: 0.9738\n",
      "Epoch 19/60\n",
      "1688/1688 [==============================] - 3s 2ms/step - loss: 0.0623 - accuracy: 0.9832 - val_loss: 0.0851 - val_accuracy: 0.9748\n",
      "Epoch 20/60\n",
      "1688/1688 [==============================] - 3s 2ms/step - loss: 0.0589 - accuracy: 0.9842 - val_loss: 0.0845 - val_accuracy: 0.9755\n",
      "Epoch 21/60\n",
      "1688/1688 [==============================] - 3s 2ms/step - loss: 0.0555 - accuracy: 0.9849 - val_loss: 0.0815 - val_accuracy: 0.9757\n",
      "Epoch 22/60\n",
      "1688/1688 [==============================] - 3s 2ms/step - loss: 0.0523 - accuracy: 0.9860 - val_loss: 0.0802 - val_accuracy: 0.9748\n",
      "Epoch 23/60\n",
      "1688/1688 [==============================] - 3s 2ms/step - loss: 0.0497 - accuracy: 0.9867 - val_loss: 0.0818 - val_accuracy: 0.9752\n",
      "Epoch 24/60\n",
      "1688/1688 [==============================] - 3s 2ms/step - loss: 0.0467 - accuracy: 0.9879 - val_loss: 0.0786 - val_accuracy: 0.9765\n",
      "Epoch 25/60\n",
      "1688/1688 [==============================] - 3s 2ms/step - loss: 0.0445 - accuracy: 0.9882 - val_loss: 0.0781 - val_accuracy: 0.9758\n",
      "Epoch 26/60\n",
      "1688/1688 [==============================] - 3s 2ms/step - loss: 0.0421 - accuracy: 0.9892 - val_loss: 0.0849 - val_accuracy: 0.9752\n",
      "Epoch 27/60\n",
      "1688/1688 [==============================] - 3s 2ms/step - loss: 0.0403 - accuracy: 0.9899 - val_loss: 0.0759 - val_accuracy: 0.9772\n",
      "Epoch 28/60\n",
      "1688/1688 [==============================] - 3s 2ms/step - loss: 0.0378 - accuracy: 0.9904 - val_loss: 0.0772 - val_accuracy: 0.9768\n",
      "Epoch 29/60\n",
      "1688/1688 [==============================] - 3s 1ms/step - loss: 0.0359 - accuracy: 0.9912 - val_loss: 0.0752 - val_accuracy: 0.9788\n",
      "Epoch 30/60\n",
      "1688/1688 [==============================] - 2s 1ms/step - loss: 0.0341 - accuracy: 0.9917 - val_loss: 0.0754 - val_accuracy: 0.9765\n",
      "Epoch 31/60\n",
      "1688/1688 [==============================] - 2s 1ms/step - loss: 0.0324 - accuracy: 0.9924 - val_loss: 0.0740 - val_accuracy: 0.9790\n",
      "Epoch 32/60\n",
      "1688/1688 [==============================] - 2s 1ms/step - loss: 0.0309 - accuracy: 0.9927 - val_loss: 0.0752 - val_accuracy: 0.9785\n",
      "Epoch 33/60\n",
      "1688/1688 [==============================] - 3s 2ms/step - loss: 0.0291 - accuracy: 0.9934 - val_loss: 0.0743 - val_accuracy: 0.9787\n",
      "Epoch 34/60\n",
      "1688/1688 [==============================] - 3s 2ms/step - loss: 0.0277 - accuracy: 0.9938 - val_loss: 0.0738 - val_accuracy: 0.9795\n",
      "Epoch 35/60\n",
      "1688/1688 [==============================] - 3s 1ms/step - loss: 0.0265 - accuracy: 0.9941 - val_loss: 0.0758 - val_accuracy: 0.9772\n",
      "Epoch 36/60\n",
      "1688/1688 [==============================] - 3s 2ms/step - loss: 0.0251 - accuracy: 0.9946 - val_loss: 0.0734 - val_accuracy: 0.9787\n",
      "Epoch 37/60\n",
      "1688/1688 [==============================] - 3s 2ms/step - loss: 0.0238 - accuracy: 0.9948 - val_loss: 0.0732 - val_accuracy: 0.9790\n",
      "Epoch 38/60\n",
      "1688/1688 [==============================] - 3s 2ms/step - loss: 0.0227 - accuracy: 0.9954 - val_loss: 0.0739 - val_accuracy: 0.9787\n",
      "Epoch 39/60\n",
      "1688/1688 [==============================] - 3s 2ms/step - loss: 0.0217 - accuracy: 0.9956 - val_loss: 0.0745 - val_accuracy: 0.9793\n",
      "Epoch 40/60\n",
      "1688/1688 [==============================] - 3s 2ms/step - loss: 0.0207 - accuracy: 0.9961 - val_loss: 0.0774 - val_accuracy: 0.9788\n",
      "Epoch 41/60\n",
      "1688/1688 [==============================] - 3s 2ms/step - loss: 0.0196 - accuracy: 0.9962 - val_loss: 0.0738 - val_accuracy: 0.9780\n",
      "Epoch 42/60\n",
      "1688/1688 [==============================] - 3s 2ms/step - loss: 0.0187 - accuracy: 0.9968 - val_loss: 0.0730 - val_accuracy: 0.9803\n",
      "Epoch 43/60\n",
      "1688/1688 [==============================] - 3s 2ms/step - loss: 0.0178 - accuracy: 0.9973 - val_loss: 0.0748 - val_accuracy: 0.9795\n",
      "Epoch 44/60\n",
      "1688/1688 [==============================] - 3s 2ms/step - loss: 0.0169 - accuracy: 0.9973 - val_loss: 0.0739 - val_accuracy: 0.9788\n",
      "Epoch 45/60\n",
      "1688/1688 [==============================] - 3s 2ms/step - loss: 0.0163 - accuracy: 0.9972 - val_loss: 0.0727 - val_accuracy: 0.9798\n",
      "Epoch 46/60\n",
      "1688/1688 [==============================] - 3s 2ms/step - loss: 0.0154 - accuracy: 0.9977 - val_loss: 0.0737 - val_accuracy: 0.9808\n",
      "Epoch 47/60\n",
      "1688/1688 [==============================] - 3s 2ms/step - loss: 0.0147 - accuracy: 0.9980 - val_loss: 0.0740 - val_accuracy: 0.9803\n",
      "Epoch 48/60\n",
      "1688/1688 [==============================] - 3s 2ms/step - loss: 0.0141 - accuracy: 0.9982 - val_loss: 0.0771 - val_accuracy: 0.9792\n",
      "Epoch 49/60\n",
      "1688/1688 [==============================] - 2s 1ms/step - loss: 0.0135 - accuracy: 0.9982 - val_loss: 0.0740 - val_accuracy: 0.9797\n",
      "Epoch 50/60\n",
      "1688/1688 [==============================] - 3s 2ms/step - loss: 0.0128 - accuracy: 0.9984 - val_loss: 0.0731 - val_accuracy: 0.9797\n",
      "Epoch 51/60\n",
      "1688/1688 [==============================] - 3s 1ms/step - loss: 0.0123 - accuracy: 0.9984 - val_loss: 0.0738 - val_accuracy: 0.9795\n",
      "Epoch 52/60\n",
      "1688/1688 [==============================] - 3s 2ms/step - loss: 0.0117 - accuracy: 0.9985 - val_loss: 0.0758 - val_accuracy: 0.9803\n",
      "Epoch 53/60\n",
      "1688/1688 [==============================] - 3s 2ms/step - loss: 0.0112 - accuracy: 0.9985 - val_loss: 0.0768 - val_accuracy: 0.9790\n",
      "Epoch 54/60\n",
      "1688/1688 [==============================] - 3s 2ms/step - loss: 0.0108 - accuracy: 0.9987 - val_loss: 0.0750 - val_accuracy: 0.9798\n",
      "Epoch 55/60\n",
      "1688/1688 [==============================] - 3s 1ms/step - loss: 0.0103 - accuracy: 0.9990 - val_loss: 0.0768 - val_accuracy: 0.9793\n",
      "Epoch 56/60\n",
      "1688/1688 [==============================] - 2s 1ms/step - loss: 0.0098 - accuracy: 0.9990 - val_loss: 0.0762 - val_accuracy: 0.9800\n",
      "Epoch 57/60\n",
      "1688/1688 [==============================] - 2s 1ms/step - loss: 0.0095 - accuracy: 0.9990 - val_loss: 0.0756 - val_accuracy: 0.9795\n",
      "Epoch 58/60\n",
      "1688/1688 [==============================] - 2s 1ms/step - loss: 0.0091 - accuracy: 0.9990 - val_loss: 0.0746 - val_accuracy: 0.9803\n",
      "Epoch 59/60\n",
      "1688/1688 [==============================] - 3s 2ms/step - loss: 0.0088 - accuracy: 0.9992 - val_loss: 0.0768 - val_accuracy: 0.9800\n",
      "Epoch 60/60\n",
      "1688/1688 [==============================] - 2s 1ms/step - loss: 0.0085 - accuracy: 0.9992 - val_loss: 0.0760 - val_accuracy: 0.9798\n"
     ]
    }
   ],
   "source": [
    "model_history = model.fit(X_train, y_train, epochs = 60, validation_data = (X_valid, y_valid))"
   ]
  },
  {
   "cell_type": "code",
   "execution_count": 13,
   "id": "9c9c1bdd",
   "metadata": {},
   "outputs": [
    {
     "data": {
      "text/plain": [
       "{'verbose': 1, 'epochs': 60, 'steps': 1688}"
      ]
     },
     "execution_count": 13,
     "metadata": {},
     "output_type": "execute_result"
    }
   ],
   "source": [
    "model_history.params"
   ]
  },
  {
   "cell_type": "code",
   "execution_count": 14,
   "id": "fd0aca6f",
   "metadata": {},
   "outputs": [
    {
     "data": {
      "text/plain": [
       "{'loss': [0.6158332824707031,\n",
       "  0.2998518645763397,\n",
       "  0.24930748343467712,\n",
       "  0.21523824334144592,\n",
       "  0.18870586156845093,\n",
       "  0.16762642562389374,\n",
       "  0.15056189894676208,\n",
       "  0.1364239603281021,\n",
       "  0.12459580600261688,\n",
       "  0.1142762079834938,\n",
       "  0.10579328238964081,\n",
       "  0.09784139692783356,\n",
       "  0.09100057184696198,\n",
       "  0.08546909689903259,\n",
       "  0.08001455664634705,\n",
       "  0.07485638558864594,\n",
       "  0.0703800693154335,\n",
       "  0.06616845726966858,\n",
       "  0.062269896268844604,\n",
       "  0.05892953649163246,\n",
       "  0.05549047514796257,\n",
       "  0.05234096571803093,\n",
       "  0.049688149243593216,\n",
       "  0.04674360156059265,\n",
       "  0.04448295384645462,\n",
       "  0.04208330437541008,\n",
       "  0.04032822325825691,\n",
       "  0.03776487708091736,\n",
       "  0.03588927909731865,\n",
       "  0.03407645970582962,\n",
       "  0.03243562579154968,\n",
       "  0.030853481963276863,\n",
       "  0.029066385701298714,\n",
       "  0.02773684822022915,\n",
       "  0.026516208425164223,\n",
       "  0.025074489414691925,\n",
       "  0.023833753541111946,\n",
       "  0.02268228307366371,\n",
       "  0.021676721051335335,\n",
       "  0.020670460537075996,\n",
       "  0.01956712082028389,\n",
       "  0.01870845817029476,\n",
       "  0.017764026299118996,\n",
       "  0.01693212054669857,\n",
       "  0.016276124864816666,\n",
       "  0.015389176085591316,\n",
       "  0.01467555295675993,\n",
       "  0.014123272150754929,\n",
       "  0.013470136560499668,\n",
       "  0.012755083851516247,\n",
       "  0.01229132991284132,\n",
       "  0.01172394584864378,\n",
       "  0.011241237632930279,\n",
       "  0.01083420030772686,\n",
       "  0.01034979335963726,\n",
       "  0.009832431562244892,\n",
       "  0.009535979479551315,\n",
       "  0.009135252796113491,\n",
       "  0.00878311600536108,\n",
       "  0.00845591351389885],\n",
       " 'accuracy': [0.838351845741272,\n",
       "  0.9149073958396912,\n",
       "  0.928518533706665,\n",
       "  0.9394074082374573,\n",
       "  0.9465370178222656,\n",
       "  0.9520740509033203,\n",
       "  0.9573147892951965,\n",
       "  0.9617407321929932,\n",
       "  0.9645370244979858,\n",
       "  0.9680370092391968,\n",
       "  0.970203697681427,\n",
       "  0.972611129283905,\n",
       "  0.9751851558685303,\n",
       "  0.9764074087142944,\n",
       "  0.9778333306312561,\n",
       "  0.9792592525482178,\n",
       "  0.9805740714073181,\n",
       "  0.9817777872085571,\n",
       "  0.9831851720809937,\n",
       "  0.9842222332954407,\n",
       "  0.9849073886871338,\n",
       "  0.9860000014305115,\n",
       "  0.9866666793823242,\n",
       "  0.9878518581390381,\n",
       "  0.9882407188415527,\n",
       "  0.9891666769981384,\n",
       "  0.9898703694343567,\n",
       "  0.9904444217681885,\n",
       "  0.9912037253379822,\n",
       "  0.9916666746139526,\n",
       "  0.992388904094696,\n",
       "  0.9926851987838745,\n",
       "  0.9933518767356873,\n",
       "  0.9938333630561829,\n",
       "  0.9940555691719055,\n",
       "  0.9946481585502625,\n",
       "  0.9947592616081238,\n",
       "  0.9953888654708862,\n",
       "  0.9956111311912537,\n",
       "  0.996055543422699,\n",
       "  0.996222198009491,\n",
       "  0.9967777729034424,\n",
       "  0.997259259223938,\n",
       "  0.9972962737083435,\n",
       "  0.9972407221794128,\n",
       "  0.9977407455444336,\n",
       "  0.9980185031890869,\n",
       "  0.9981666803359985,\n",
       "  0.9981666803359985,\n",
       "  0.998370349407196,\n",
       "  0.9983888864517212,\n",
       "  0.9984999895095825,\n",
       "  0.9985370635986328,\n",
       "  0.9987407326698303,\n",
       "  0.998962938785553,\n",
       "  0.9990184903144836,\n",
       "  0.9990000128746033,\n",
       "  0.9990370273590088,\n",
       "  0.9992036819458008,\n",
       "  0.9992036819458008],\n",
       " 'val_loss': [0.31673818826675415,\n",
       "  0.2535080909729004,\n",
       "  0.21502545475959778,\n",
       "  0.18859583139419556,\n",
       "  0.17208023369312286,\n",
       "  0.15307334065437317,\n",
       "  0.14624346792697906,\n",
       "  0.13287727534770966,\n",
       "  0.12296918779611588,\n",
       "  0.1169583648443222,\n",
       "  0.1145976185798645,\n",
       "  0.1081913486123085,\n",
       "  0.11084113270044327,\n",
       "  0.0992494598031044,\n",
       "  0.09865524619817734,\n",
       "  0.09341540187597275,\n",
       "  0.08993016928434372,\n",
       "  0.08712119609117508,\n",
       "  0.08511117845773697,\n",
       "  0.0844791904091835,\n",
       "  0.08149860799312592,\n",
       "  0.08015058934688568,\n",
       "  0.08178561180830002,\n",
       "  0.07862646132707596,\n",
       "  0.07808605581521988,\n",
       "  0.0848810002207756,\n",
       "  0.0758771076798439,\n",
       "  0.07717979699373245,\n",
       "  0.0752396360039711,\n",
       "  0.07536409795284271,\n",
       "  0.07403206080198288,\n",
       "  0.07524459809064865,\n",
       "  0.07433249801397324,\n",
       "  0.07384036481380463,\n",
       "  0.07576002180576324,\n",
       "  0.073426753282547,\n",
       "  0.07315121591091156,\n",
       "  0.07386410236358643,\n",
       "  0.07449232041835785,\n",
       "  0.0773596316576004,\n",
       "  0.07382598519325256,\n",
       "  0.07295365631580353,\n",
       "  0.07481670379638672,\n",
       "  0.07391850650310516,\n",
       "  0.07268013805150986,\n",
       "  0.07372479885816574,\n",
       "  0.07396434247493744,\n",
       "  0.07709768414497375,\n",
       "  0.07398394495248795,\n",
       "  0.07311856746673584,\n",
       "  0.07377396523952484,\n",
       "  0.07579241693019867,\n",
       "  0.07676081359386444,\n",
       "  0.07495506852865219,\n",
       "  0.07680626958608627,\n",
       "  0.07616548985242844,\n",
       "  0.07563883811235428,\n",
       "  0.07459607720375061,\n",
       "  0.07682721316814423,\n",
       "  0.07600098848342896],\n",
       " 'val_accuracy': [0.9113333225250244,\n",
       "  0.9293333292007446,\n",
       "  0.940666675567627,\n",
       "  0.9478333592414856,\n",
       "  0.953166663646698,\n",
       "  0.9566666483879089,\n",
       "  0.9595000147819519,\n",
       "  0.9621666669845581,\n",
       "  0.9649999737739563,\n",
       "  0.9679999947547913,\n",
       "  0.9673333168029785,\n",
       "  0.968666672706604,\n",
       "  0.9683333039283752,\n",
       "  0.971666693687439,\n",
       "  0.9710000157356262,\n",
       "  0.9721666574478149,\n",
       "  0.9738333225250244,\n",
       "  0.9738333225250244,\n",
       "  0.9748333096504211,\n",
       "  0.9754999876022339,\n",
       "  0.9756666421890259,\n",
       "  0.9748333096504211,\n",
       "  0.9751666784286499,\n",
       "  0.9764999747276306,\n",
       "  0.9758333563804626,\n",
       "  0.9751666784286499,\n",
       "  0.9771666526794434,\n",
       "  0.9768333435058594,\n",
       "  0.9788333177566528,\n",
       "  0.9764999747276306,\n",
       "  0.9789999723434448,\n",
       "  0.9785000085830688,\n",
       "  0.9786666631698608,\n",
       "  0.9794999957084656,\n",
       "  0.9771666526794434,\n",
       "  0.9786666631698608,\n",
       "  0.9789999723434448,\n",
       "  0.9786666631698608,\n",
       "  0.9793333411216736,\n",
       "  0.9788333177566528,\n",
       "  0.9779999852180481,\n",
       "  0.9803333282470703,\n",
       "  0.9794999957084656,\n",
       "  0.9788333177566528,\n",
       "  0.9798333048820496,\n",
       "  0.9808333516120911,\n",
       "  0.9803333282470703,\n",
       "  0.9791666865348816,\n",
       "  0.9796666502952576,\n",
       "  0.9796666502952576,\n",
       "  0.9794999957084656,\n",
       "  0.9803333282470703,\n",
       "  0.9789999723434448,\n",
       "  0.9798333048820496,\n",
       "  0.9793333411216736,\n",
       "  0.9800000190734863,\n",
       "  0.9794999957084656,\n",
       "  0.9803333282470703,\n",
       "  0.9800000190734863,\n",
       "  0.9798333048820496]}"
      ]
     },
     "execution_count": 14,
     "metadata": {},
     "output_type": "execute_result"
    }
   ],
   "source": [
    "model_history.history"
   ]
  },
  {
   "cell_type": "code",
   "execution_count": 15,
   "id": "44ef9db9",
   "metadata": {},
   "outputs": [
    {
     "data": {
      "image/png": "[encoded data removed]",
      "text/plain": [
       "<Figure size 576x360 with 1 Axes>"
      ]
     },
     "metadata": {
      "needs_background": "light"
     },
     "output_type": "display_data"
    }
   ],
   "source": [
    "pd.DataFrame(model_history.history).plot(figsize = (8,5))\n",
    "plt.grid(True)\n",
    "plt.gca().set_ylim(0,1)\n",
    "plt.show()"
   ]
  },
  {
   "cell_type": "markdown",
   "id": "f87c4da2",
   "metadata": {},
   "source": [
    "#### Evaluating the Model"
   ]
  },
  {
   "cell_type": "code",
   "execution_count": 16,
   "id": "d43528c6",
   "metadata": {},
   "outputs": [
    {
     "name": "stdout",
     "output_type": "stream",
     "text": [
      "313/313 [==============================] - 0s 1ms/step - loss: 0.0760 - accuracy: 0.9791\n"
     ]
    },
    {
     "data": {
      "text/plain": [
       "[0.07602811604738235, 0.9790999889373779]"
      ]
     },
     "execution_count": 16,
     "metadata": {},
     "output_type": "execute_result"
    }
   ],
   "source": [
    "model.evaluate(X_test, y_test)"
   ]
  },
  {
   "cell_type": "markdown",
   "id": "85fb8d34",
   "metadata": {},
   "source": [
    "#### Prediction"
   ]
  },
  {
   "cell_type": "code",
   "execution_count": 17,
   "id": "751d2cde",
   "metadata": {},
   "outputs": [],
   "source": [
    "X_new = X_test[:5]"
   ]
  },
  {
   "cell_type": "code",
   "execution_count": 18,
   "id": "a9cb3948",
   "metadata": {},
   "outputs": [
    {
     "data": {
      "text/plain": [
       "array([7, 2, 1, 0, 4], dtype=int64)"
      ]
     },
     "execution_count": 18,
     "metadata": {},
     "output_type": "execute_result"
    }
   ],
   "source": [
    "y_pred = np.argmax(model.predict(X_new), axis = -1)\n",
    "y_pred"
   ]
  },
  {
   "cell_type": "markdown",
   "id": "0c5cea28",
   "metadata": {},
   "source": [
    "#### Verfication"
   ]
  },
  {
   "cell_type": "code",
   "execution_count": 19,
   "id": "75d79a95",
   "metadata": {},
   "outputs": [
    {
     "name": "stdout",
     "output_type": "stream",
     "text": [
      "AxesImage(54,36;334.8x217.44)\n"
     ]
    },
    {
     "data": {
      "image/png": "[encoded data removed]",
      "text/plain": [
       "<Figure size 432x288 with 1 Axes>"
      ]
     },
     "metadata": {
      "needs_background": "light"
     },
     "output_type": "display_data"
    }
   ],
   "source": [
    "print(plt.imshow(X_test[0]))"
   ]
  },
  {
   "cell_type": "code",
   "execution_count": 20,
   "id": "57cfa33f",
   "metadata": {},
   "outputs": [
    {
     "name": "stdout",
     "output_type": "stream",
     "text": [
      "AxesImage(54,36;334.8x217.44)\n"
     ]
    },
    {
     "data": {
      "image/png": "[encoded data removed]",
      "text/plain": [
       "<Figure size 432x288 with 1 Axes>"
      ]
     },
     "metadata": {
      "needs_background": "light"
     },
     "output_type": "display_data"
    }
   ],
   "source": [
    "print(plt.imshow(X_test[1]))"
   ]
  },
  {
   "cell_type": "code",
   "execution_count": 21,
   "id": "badc276f",
   "metadata": {},
   "outputs": [
    {
     "name": "stdout",
     "output_type": "stream",
     "text": [
      "AxesImage(54,36;334.8x217.44)\n"
     ]
    },
    {
     "data": {
      "image/png": "[encoded data removed]",
      "text/plain": [
       "<Figure size 432x288 with 1 Axes>"
      ]
     },
     "metadata": {
      "needs_background": "light"
     },
     "output_type": "display_data"
    }
   ],
   "source": [
    "print(plt.imshow(X_test[2]))"
   ]
  },
  {
   "cell_type": "code",
   "execution_count": 22,
   "id": "40bdb096",
   "metadata": {},
   "outputs": [
    {
     "name": "stdout",
     "output_type": "stream",
     "text": [
      "AxesImage(54,36;334.8x217.44)\n"
     ]
    },
    {
     "data": {
      "image/png": "[encoded data removed]",
      "text/plain": [
       "<Figure size 432x288 with 1 Axes>"
      ]
     },
     "metadata": {
      "needs_background": "light"
     },
     "output_type": "display_data"
    }
   ],
   "source": [
    "print(plt.imshow(X_test[3]))"
   ]
  },
  {
   "cell_type": "code",
   "execution_count": 23,
   "id": "23cbbd6f",
   "metadata": {},
   "outputs": [
    {
     "name": "stdout",
     "output_type": "stream",
     "text": [
      "AxesImage(54,36;334.8x217.44)\n"
     ]
    },
    {
     "data": {
      "image/png": "[encoded data removed]",
      "text/plain": [
       "<Figure size 432x288 with 1 Axes>"
      ]
     },
     "metadata": {
      "needs_background": "light"
     },
     "output_type": "display_data"
    }
   ],
   "source": [
    "print(plt.imshow(X_test[4]))"
   ]
  }
 ],
 "metadata": {
  "kernelspec": {
   "display_name": "Python 3",
   "language": "python",
   "name": "python3"
  },
  "language_info": {
   "codemirror_mode": {
    "name": "ipython",
    "version": 3
   },
   "file_extension": ".py",
   "mimetype": "text/x-python",
   "name": "python",
   "nbconvert_exporter": "python",
   "pygments_lexer": "ipython3",
   "version": "3.8.8"
  }
 },
 "nbformat": 4,
 "nbformat_minor": 5
}
